{
 "cells": [
  {
   "cell_type": "markdown",
   "id": "186f1305",
   "metadata": {},
   "source": [
    "# Projeto 2 - Backtest modelo de investimento em dividendos\n",
    "\n",
    "<br> \n",
    "\n",
    "### Desafio:\n",
    "\n",
    "* Testar se escolher empresas de dividendos funcionou no Brasil nos últimos anos.\n",
    "\n",
    "<br> \n",
    "\n",
    "### Passo a passo:\n",
    "\n",
    "   **Passo 1** - Importar os módulos e bibliotecas.\n",
    "   \n",
    "   **Passo 2** - Baixar os dados disponibilizados.\n",
    "   \n",
    "   **Passo 3** - Pegar as datas que iremos balancear a carteira. \n",
    "   \n",
    "   **Passo 4** - Filtrar  a liquidez.\n",
    "   \n",
    "   **Passo 5** - Criar o ranking dos indicadores.\n",
    "   \n",
    "   **Passo 6** - Criar as carteiras. \n",
    "   \n",
    "   **Passo 7** - Calcular a rentabilidade por carteira.\n",
    "   \n",
    "   **Passo 8** - Calcular a rentabilidade do modelo.\n",
    "\n",
    "   **Passo 9** - Calcular a rentabilidade do ibovespa no mesmo período.\n",
    "\n",
    "   **Passo 10** - Analisar os resultados.\n",
    "   \n",
    "   **Passo 11** - Comprar a carteira.\n",
    "   \n",
    "-------------------"
   ]
  },
  {
   "cell_type": "markdown",
   "id": "dcbd7acc",
   "metadata": {},
   "source": [
    "# Passo 1: Importando os módulos necessários"
   ]
  },
  {
   "cell_type": "code",
   "execution_count": null,
   "id": "d07042cc",
   "metadata": {},
   "outputs": [],
   "source": [
    "#!pip install quantstats"
   ]
  },
  {
   "cell_type": "code",
   "execution_count": 1,
   "id": "c41e1c18",
   "metadata": {},
   "outputs": [],
   "source": [
    "import pandas as pd\n",
    "import quantstats as qs "
   ]
  },
  {
   "cell_type": "markdown",
   "id": "6e663a19",
   "metadata": {},
   "source": [
    "# Passo 2: Baixar os dados dispobinilizados. "
   ]
  },
  {
   "cell_type": "code",
   "execution_count": 4,
   "id": "2714cc69",
   "metadata": {},
   "outputs": [
    {
     "data": {
      "text/html": [
       "<div>\n",
       "<style scoped>\n",
       "    .dataframe tbody tr th:only-of-type {\n",
       "        vertical-align: middle;\n",
       "    }\n",
       "\n",
       "    .dataframe tbody tr th {\n",
       "        vertical-align: top;\n",
       "    }\n",
       "\n",
       "    .dataframe thead th {\n",
       "        text-align: right;\n",
       "    }\n",
       "</style>\n",
       "<table border=\"1\" class=\"dataframe\">\n",
       "  <thead>\n",
       "    <tr style=\"text-align: right;\">\n",
       "      <th></th>\n",
       "      <th>data</th>\n",
       "      <th>ticker</th>\n",
       "      <th>preco_fechamento_ajustado</th>\n",
       "      <th>volume_negociado</th>\n",
       "      <th>dy</th>\n",
       "    </tr>\n",
       "  </thead>\n",
       "  <tbody>\n",
       "    <tr>\n",
       "      <th>0</th>\n",
       "      <td>2019-04-30</td>\n",
       "      <td>AALR3</td>\n",
       "      <td>14.87</td>\n",
       "      <td>2569789.0</td>\n",
       "      <td>0.005640</td>\n",
       "    </tr>\n",
       "    <tr>\n",
       "      <th>1</th>\n",
       "      <td>2019-05-31</td>\n",
       "      <td>AALR3</td>\n",
       "      <td>13.90</td>\n",
       "      <td>1586619.0</td>\n",
       "      <td>0.006030</td>\n",
       "    </tr>\n",
       "    <tr>\n",
       "      <th>2</th>\n",
       "      <td>2019-06-30</td>\n",
       "      <td>AALR3</td>\n",
       "      <td>14.30</td>\n",
       "      <td>10832812.0</td>\n",
       "      <td>0.005863</td>\n",
       "    </tr>\n",
       "    <tr>\n",
       "      <th>3</th>\n",
       "      <td>2019-07-31</td>\n",
       "      <td>AALR3</td>\n",
       "      <td>14.67</td>\n",
       "      <td>2810704.0</td>\n",
       "      <td>0.005716</td>\n",
       "    </tr>\n",
       "    <tr>\n",
       "      <th>4</th>\n",
       "      <td>2019-08-31</td>\n",
       "      <td>AALR3</td>\n",
       "      <td>18.99</td>\n",
       "      <td>4488459.0</td>\n",
       "      <td>0.004415</td>\n",
       "    </tr>\n",
       "    <tr>\n",
       "      <th>...</th>\n",
       "      <td>...</td>\n",
       "      <td>...</td>\n",
       "      <td>...</td>\n",
       "      <td>...</td>\n",
       "      <td>...</td>\n",
       "    </tr>\n",
       "    <tr>\n",
       "      <th>47302</th>\n",
       "      <td>2023-07-31</td>\n",
       "      <td>ZAMP3</td>\n",
       "      <td>4.42</td>\n",
       "      <td>4634150.0</td>\n",
       "      <td>0.000000</td>\n",
       "    </tr>\n",
       "    <tr>\n",
       "      <th>47303</th>\n",
       "      <td>2023-08-31</td>\n",
       "      <td>ZAMP3</td>\n",
       "      <td>5.55</td>\n",
       "      <td>14211395.0</td>\n",
       "      <td>0.000000</td>\n",
       "    </tr>\n",
       "    <tr>\n",
       "      <th>47304</th>\n",
       "      <td>2023-09-30</td>\n",
       "      <td>ZAMP3</td>\n",
       "      <td>6.13</td>\n",
       "      <td>8921464.0</td>\n",
       "      <td>0.000000</td>\n",
       "    </tr>\n",
       "    <tr>\n",
       "      <th>47305</th>\n",
       "      <td>2023-10-31</td>\n",
       "      <td>ZAMP3</td>\n",
       "      <td>6.35</td>\n",
       "      <td>6714596.0</td>\n",
       "      <td>0.000000</td>\n",
       "    </tr>\n",
       "    <tr>\n",
       "      <th>47306</th>\n",
       "      <td>2023-11-30</td>\n",
       "      <td>ZAMP3</td>\n",
       "      <td>5.82</td>\n",
       "      <td>8694125.0</td>\n",
       "      <td>0.000000</td>\n",
       "    </tr>\n",
       "  </tbody>\n",
       "</table>\n",
       "<p>47307 rows × 5 columns</p>\n",
       "</div>"
      ],
      "text/plain": [
       "             data ticker  preco_fechamento_ajustado  volume_negociado  \\\n",
       "0      2019-04-30  AALR3                      14.87         2569789.0   \n",
       "1      2019-05-31  AALR3                      13.90         1586619.0   \n",
       "2      2019-06-30  AALR3                      14.30        10832812.0   \n",
       "3      2019-07-31  AALR3                      14.67         2810704.0   \n",
       "4      2019-08-31  AALR3                      18.99         4488459.0   \n",
       "...           ...    ...                        ...               ...   \n",
       "47302  2023-07-31  ZAMP3                       4.42         4634150.0   \n",
       "47303  2023-08-31  ZAMP3                       5.55        14211395.0   \n",
       "47304  2023-09-30  ZAMP3                       6.13         8921464.0   \n",
       "47305  2023-10-31  ZAMP3                       6.35         6714596.0   \n",
       "47306  2023-11-30  ZAMP3                       5.82         8694125.0   \n",
       "\n",
       "             dy  \n",
       "0      0.005640  \n",
       "1      0.006030  \n",
       "2      0.005863  \n",
       "3      0.005716  \n",
       "4      0.004415  \n",
       "...         ...  \n",
       "47302  0.000000  \n",
       "47303  0.000000  \n",
       "47304  0.000000  \n",
       "47305  0.000000  \n",
       "47306  0.000000  \n",
       "\n",
       "[47307 rows x 5 columns]"
      ]
     },
     "execution_count": 4,
     "metadata": {},
     "output_type": "execute_result"
    }
   ],
   "source": [
    "dados_empresas = pd.read_csv(\"datasets/dados_empresas.csv\")\n",
    "dados_empresas"
   ]
  },
  {
   "cell_type": "markdown",
   "id": "0ae4f420",
   "metadata": {},
   "source": [
    "# Passo 3: Calcular os retornos mensais das empresas."
   ]
  },
  {
   "cell_type": "code",
   "execution_count": null,
   "id": "15f8181a",
   "metadata": {},
   "outputs": [],
   "source": [
    "dados_empresas['retorno'] = dados_empresas.groupby('ticker')['preco_fechamento_ajustado'].pct_change()\n",
    "dados_empresas['retorno'] = dados_empresas.groupby('ticker')['retorno'].shift(-1) "
   ]
  },
  {
   "cell_type": "markdown",
   "id": "1fb655d4",
   "metadata": {},
   "source": [
    "# Passo 4: Filtrar liquidez."
   ]
  },
  {
   "cell_type": "code",
   "execution_count": null,
   "id": "78db61e0",
   "metadata": {},
   "outputs": [],
   "source": [
    "dados_empresas = dados_empresas[dados_empresas['volume_negociado'] > 1000000]"
   ]
  },
  {
   "cell_type": "markdown",
   "id": "b0de9a3f",
   "metadata": {},
   "source": [
    "# Passo 5: Criar o ranking dos indicadores."
   ]
  },
  {
   "cell_type": "code",
   "execution_count": null,
   "id": "8054b285",
   "metadata": {},
   "outputs": [],
   "source": [
    "dados_empresas['ranking_dy'] = dados_empresas.groupby('data')['dy'].rank(ascending = False)"
   ]
  },
  {
   "cell_type": "code",
   "execution_count": null,
   "id": "ad7d61ba",
   "metadata": {
    "scrolled": true
   },
   "outputs": [],
   "source": [
    "#exemplo de carteira\n",
    "\n",
    "dados_empresas[dados_empresas['data'] == '2017-01-31'].sort_values('ranking_dy').head(20)"
   ]
  },
  {
   "cell_type": "markdown",
   "id": "204910a5",
   "metadata": {},
   "source": [
    "# Passo 6: Criar as carteiras. "
   ]
  },
  {
   "cell_type": "code",
   "execution_count": null,
   "id": "fc0a4dc4",
   "metadata": {},
   "outputs": [],
   "source": [
    "dados_empresas = dados_empresas[dados_empresas['ranking_dy'] <= 10]\n",
    "\n",
    "#dados_empresas[dados_empresas['data'] == '2016-01-31']"
   ]
  },
  {
   "cell_type": "markdown",
   "id": "36aff50a",
   "metadata": {},
   "source": [
    "# Passo 7: Calcula a rentabilidade por carteira."
   ]
  },
  {
   "cell_type": "code",
   "execution_count": null,
   "id": "c4c0348d",
   "metadata": {},
   "outputs": [],
   "source": [
    "rentabilidade_por_carteiras = dados_empresas.groupby('data')['retorno'].mean()\n",
    "rentabilidade_por_carteiras = rentabilidade_por_carteiras.to_frame()"
   ]
  },
  {
   "cell_type": "markdown",
   "id": "df8a767a",
   "metadata": {},
   "source": [
    "# Passo 8: Calcula a rentabilidade do modelo."
   ]
  },
  {
   "cell_type": "code",
   "execution_count": null,
   "id": "bc2b3a35",
   "metadata": {},
   "outputs": [],
   "source": [
    "rentabilidade_por_carteiras['estrategia_dy'] = (rentabilidade_por_carteiras['retorno'] + 1).cumprod() - 1\n",
    "\n",
    "rentabilidade_por_carteiras = rentabilidade_por_carteiras.shift(1)\n",
    "\n",
    "rentabilidade_por_carteiras = rentabilidade_por_carteiras.dropna()"
   ]
  },
  {
   "cell_type": "code",
   "execution_count": null,
   "id": "54ec8149",
   "metadata": {},
   "outputs": [],
   "source": [
    "rentabilidade_por_carteiras"
   ]
  },
  {
   "cell_type": "markdown",
   "id": "f7b31fc2",
   "metadata": {},
   "source": [
    "# Passo 9: Calcula a rentabilidade do ibovespa no mesmo período."
   ]
  },
  {
   "cell_type": "code",
   "execution_count": null,
   "id": "71c1c8c8",
   "metadata": {
    "scrolled": true
   },
   "outputs": [],
   "source": [
    "ibov = pd.read_csv('ibov.csv')\n",
    "\n",
    "retornos_ibov = ibov['fechamento'].pct_change().dropna()\n",
    "retorno_acum_ibov = (1 + retornos_ibov).cumprod() - 1\n",
    "rentabilidade_por_carteiras['Ibovespa'] = retorno_acum_ibov.values\n",
    "rentabilidade_por_carteiras = rentabilidade_por_carteiras.drop('retorno', axis = 1)"
   ]
  },
  {
   "cell_type": "markdown",
   "id": "99ecae42",
   "metadata": {},
   "source": [
    "# Passo 10: Resultados."
   ]
  },
  {
   "cell_type": "code",
   "execution_count": null,
   "id": "05f753a8",
   "metadata": {},
   "outputs": [],
   "source": [
    "qs.extend_pandas()\n",
    "rentabilidade_por_carteiras.index = pd.to_datetime(rentabilidade_por_carteiras.index)\n",
    "\n",
    "rentabilidade_por_carteiras['estrategia_dy'].plot_monthly_heatmap()\n",
    "rentabilidade_por_carteiras['Ibovespa'].plot_monthly_heatmap()"
   ]
  },
  {
   "cell_type": "code",
   "execution_count": null,
   "id": "7f9b4f7f",
   "metadata": {},
   "outputs": [],
   "source": [
    "rentabilidade_por_carteiras.plot(figsize = (7, 4))"
   ]
  },
  {
   "cell_type": "markdown",
   "id": "a469647b",
   "metadata": {},
   "source": [
    "# Passo 11: Comprar a última carteira gerada pelo modelo.\n",
    "\n",
    "https://www.mql5.com/en/docs/python_metatrader5"
   ]
  },
  {
   "cell_type": "code",
   "execution_count": null,
   "id": "e7b0c99c",
   "metadata": {},
   "outputs": [],
   "source": [
    "ultima_carteira = dados_empresas[dados_empresas['data'] == '2023-11-30']\n",
    "\n",
    "tickers = ultima_carteira['ticker'].to_list()"
   ]
  },
  {
   "cell_type": "code",
   "execution_count": null,
   "id": "33ab8e4a",
   "metadata": {},
   "outputs": [],
   "source": [
    "tickers"
   ]
  },
  {
   "cell_type": "code",
   "execution_count": null,
   "id": "710afd0f",
   "metadata": {},
   "outputs": [],
   "source": [
    "import MetaTrader5 as mt5"
   ]
  },
  {
   "cell_type": "code",
   "execution_count": null,
   "id": "ade5eca6",
   "metadata": {},
   "outputs": [],
   "source": [
    "mt5.initialize()\n",
    "for ticker in tickers:\n",
    "\n",
    "    print(ticker)\n",
    "    \n",
    "    mt5.symbol_select(ticker)\n",
    "    preco = mt5.symbol_info_tick(ticker).ask\n",
    "    quantidade = 100.0\n",
    "    ordem_compra = {\n",
    "        \"action\": mt5.TRADE_ACTION_DEAL,\n",
    "        \"symbol\": ticker,\n",
    "        \"volume\": quantidade,\n",
    "        \"type\": mt5.ORDER_TYPE_BUY,\n",
    "        \"price\": preco,\n",
    "        \"magic\": 1,\n",
    "        \"comment\": \"Trades automáticos\",\n",
    "        \"type_time\": mt5.ORDER_TIME_DAY,\n",
    "        \"type_filling\": mt5.ORDER_FILLING_RETURN,\n",
    "    }\n",
    "    result_compra = mt5.order_send(ordem_compra)"
   ]
  },
  {
   "cell_type": "code",
   "execution_count": null,
   "id": "fddafb39",
   "metadata": {},
   "outputs": [],
   "source": []
  },
  {
   "cell_type": "code",
   "execution_count": null,
   "id": "fb214fc5",
   "metadata": {},
   "outputs": [],
   "source": []
  },
  {
   "cell_type": "code",
   "execution_count": null,
   "id": "052741f5",
   "metadata": {},
   "outputs": [],
   "source": []
  },
  {
   "cell_type": "code",
   "execution_count": null,
   "id": "9259883a",
   "metadata": {},
   "outputs": [],
   "source": []
  }
 ],
 "metadata": {
  "kernelspec": {
   "display_name": "Python 3 (ipykernel)",
   "language": "python",
   "name": "python3"
  },
  "language_info": {
   "codemirror_mode": {
    "name": "ipython",
    "version": 3
   },
   "file_extension": ".py",
   "mimetype": "text/x-python",
   "name": "python",
   "nbconvert_exporter": "python",
   "pygments_lexer": "ipython3",
   "version": "3.12.2"
  }
 },
 "nbformat": 4,
 "nbformat_minor": 5
}
